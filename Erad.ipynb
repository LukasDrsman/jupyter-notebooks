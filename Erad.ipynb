{
 "cells": [
  {
   "cell_type": "markdown",
   "id": "631001b7-6ff0-4a8d-87ac-58e2dc49e0e8",
   "metadata": {},
   "source": [
    "# Radiating electric field\n",
    "Given by the equation\n",
    "$$\n",
    "\\vec{E}_{rad}=\\frac{1}{4\\pi\\epsilon_0}\\left(\\frac{q\\hat{R}\\times[(\\hat{R}-\\vec{\\beta})\\times\\dot{\\vec{\\beta}}]}{c(1-\\hat{R}\\cdot\\vec{\\beta})^3R}\\right)_{\\text{retarded}},\n",
    "$$\n",
    "where $\\vec{R}$ is the vector from the source to the field point\n",
    "$$\n",
    "\\vec{R} = \\vec{r} - \\vec{r}',\n",
    "$$\n",
    "and where the time-dependent terms are evaluated at retarded time\n",
    "$$\n",
    "t' = t - \\frac{R}{c}.\n",
    "$$"
   ]
  },
  {
   "cell_type": "code",
   "execution_count": 1,
   "id": "c25bcf5c-d560-42f2-8790-59484494f7b3",
   "metadata": {},
   "outputs": [
    {
     "data": {
      "application/vnd.jupyter.widget-view+json": {
       "model_id": "d13c5b426cbd4d8cbd5662dc0d60fbb8",
       "version_major": 2,
       "version_minor": 0
      },
      "text/plain": [
       "interactive(children=(FloatSlider(value=0.0, description='t', max=1.0, step=0.001), FloatSlider(value=0.55, de…"
      ]
     },
     "metadata": {},
     "output_type": "display_data"
    }
   ],
   "source": [
    "import numpy as np\n",
    "from vectorfields import CustomUV2D\n",
    "from sys import argv\n",
    "from ipywidgets import interact, interactive, fixed, interact_manual\n",
    "import ipywidgets as widgets\n",
    "\n",
    "\n",
    "c = 299792458\n",
    "m = 6.692e-27\n",
    "q = 2 * 1.60217662e-19\n",
    "e0 = 8.85418782e-12\n",
    "\n",
    "def E(t, r, v):\n",
    "    t/100\n",
    "    B = m*v/(q*r)\n",
    "\n",
    "    b = v/c\n",
    "    frq = v/r\n",
    "    phit = frq*t\n",
    "    phi = lambda x,y: frq*(t - np.sqrt((x - r*np.cos(phit))**2 + (y - r*np.sin(phit))**2)/c)\n",
    "\n",
    "    bvec = lambda x,y: b * np.array([-np.sin(phi(x,y)), np.cos(phi(x,y))])\n",
    "    rvec = lambda x,y: np.array([x - r*np.cos(phi(x,y)), y - r*np.sin(phi(x,y))])\n",
    "    rmag = lambda x,y: np.sqrt((x - r*np.cos(phi(x,y)))**2 + (y - r*np.sin(phi(x,y)))**2)\n",
    "    rhat = lambda x,y: rvec(x,y)/rmag(x,y)\n",
    "    diff = lambda x,y: rhat(x,y) - bvec(x,y)\n",
    "\n",
    "    k = -q**2*B*b/(4*np.pi*m*e0)\n",
    "    upper = lambda x,y: k*(diff(x,y)[0]*np.sin(phi(x,y)) - diff(x,y)[0]*np.cos(phi(x,y)))*np.array([rhat(x,y)[1], -rhat(x,y)[0]])\n",
    "    lower = lambda x,y: c*(1 - b*(rhat(x,y)[1]*np.cos(phi(x,y)) - rhat(x,y)[0]*np.sin(phi(x,y))))**3*rmag(x,y)\n",
    "\n",
    "    combined = lambda x,y: upper(x,y)/lower(x,y)\n",
    "\n",
    "    # scaled by position\n",
    "    xfunc = lambda x,y: 10*np.sqrt(x**2+y**2)*combined(x,y)[0]\n",
    "    yfunc = lambda x,y: 10*np.sqrt(x**2+y**2)*combined(x,y)[1]\n",
    "\n",
    "    F = CustomUV2D(xfunc, yfunc, size=50, resolution=70)\n",
    "    F.plot()\n",
    "    \n",
    "interact(E, t=(0,1,0.001), v=(15e+6, 30e+6), r=(0.1,1,0.01));"
   ]
  },
  {
   "cell_type": "code",
   "execution_count": null,
   "id": "afaf1309-8200-4a59-bc43-3cfaa6635a32",
   "metadata": {},
   "outputs": [],
   "source": []
  }
 ],
 "metadata": {
  "kernelspec": {
   "display_name": "Python 3 (ipykernel)",
   "language": "python",
   "name": "python3"
  },
  "language_info": {
   "codemirror_mode": {
    "name": "ipython",
    "version": 3
   },
   "file_extension": ".py",
   "mimetype": "text/x-python",
   "name": "python",
   "nbconvert_exporter": "python",
   "pygments_lexer": "ipython3",
   "version": "3.9.7"
  }
 },
 "nbformat": 4,
 "nbformat_minor": 5
}
