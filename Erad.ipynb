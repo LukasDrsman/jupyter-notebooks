{
 "cells": [
  {
   "cell_type": "markdown",
   "id": "631001b7-6ff0-4a8d-87ac-58e2dc49e0e8",
   "metadata": {
    "tags": []
   },
   "source": [
    "# Radiative electric field\n",
    "\n",
    "Given by the equation\n",
    "$$\n",
    "\\pmb{E}_\\text{rad}=\\frac{1}{4\\pi\\epsilon_0}\\left(\\frac{q\\pmb{\\hat{R}}\\times[(\\pmb{\\hat{R}}-\\pmb{\\beta})\\times\\dot{\\pmb{\\beta}}]}{c(1-\\pmb{\\hat{R}}\\cdot\\pmb{\\beta})^3R}\\right)_{\\text{retarded}},\n",
    "$$\n",
    "where $\\pmb{R}$ is the vector from the source to the field point\n",
    "$$\n",
    "\\pmb{R} = \\pmb{r} - \\pmb{r}^\\prime,\n",
    "$$\n",
    "and where the time-dependent terms are evaluated at retarded time\n",
    "$$\n",
    "t^\\prime = t - \\frac{R}{c}.\n",
    "$$"
   ]
  },
  {
   "cell_type": "markdown",
   "id": "811aeeb5-ce52-48d2-9119-d16d475346ce",
   "metadata": {
    "tags": []
   },
   "source": [
    "## Definitions\n",
    "For this specific case, the source point vector $\\pmb{r}^\\prime$ is given by\n",
    "$$\n",
    "\\pmb{r}^\\prime = r(\\pmb{\\hat{x}}\\cos{\\phi} + \\pmb{\\hat{y}}\\sin{\\phi}),\n",
    "$$\n",
    "where $\\phi$ is the angular position of the particle. The relative velocity $\\pmb{\\beta}$ is perpendicular to the sorce point vector and is given by\n",
    "$$\n",
    "\\pmb{\\beta} = \\frac{v}{c}(\\pmb{\\hat{y}}\\cos{\\phi}-\\pmb{\\hat{x}}\\sin{\\phi}).\n",
    "$$\n",
    "The relative acceleration is defined in terms of relative speed $\\beta$ and magnetic field magnitude $B$ as\n",
    "$$\n",
    "\\pmb{\\dot{\\beta}} = -\\frac{qB\\beta}{m}(\\pmb{\\hat{x}}\\cos{\\phi} + \\pmb{\\hat{y}}\\sin{\\phi}).\n",
    "$$\n",
    "The magnitude of the magnetic field is variable, dependent on speed and radius, thus the relative acceleration can be redefined in terms of these variables,\n",
    "$$\n",
    "\\pmb{\\dot{\\beta}} = -\\frac{v^2}{cr}(\\pmb{\\hat{x}}\\cos{\\phi} + \\pmb{\\hat{y}}\\sin{\\phi}).\n",
    "$$"
   ]
  },
  {
   "cell_type": "markdown",
   "id": "59728b74-4603-460b-8737-30619b043d06",
   "metadata": {},
   "source": [
    "## Implementation\n",
    "The radiative electric field is divided into its components\n",
    "$$\n",
    "\\pmb{E}_\\text{rad} = u(x,y,t)\\pmb{\\hat{x}}+v(x,y,t)\\pmb{\\hat{y}}.\n",
    "$$\n",
    "The *coupling* constant is merged into a single number,\n",
    "$$\n",
    "k = \\frac{1}{4\\pi\\epsilon_0},\n",
    "$$\n",
    "and the retarded term of the equation is evaluated, starting with the numerator. For the sake of simplicity, the unit separation vector $\\pmb{\\hat{R}}$ is given its own symbol,\n",
    "$$\n",
    "\\pmb{n} \\equiv \\pmb{\\hat{R}}.\n",
    "$$\n",
    "The difference between the relative velocity and the unit separation vector expands to\n",
    "$$\n",
    "\\pmb{n}-\\pmb{\\beta} = (n_x - \\beta_x)\\pmb{\\hat{x}} + (n_y - \\beta_y)\\pmb{\\hat{y}}.\n",
    "$$\n",
    "The first cross product is expanded,\n",
    "$$\n",
    "(\\pmb{n}-\\pmb{\\beta})\\times\\dot{\\pmb{\\beta}}=\\begin{vmatrix}\n",
    "\\pmb{\\hat{x}} & \\pmb{\\hat{y}} & \\pmb{\\hat{z}} \\\\ \n",
    "(n_x - \\beta_x) & (n_y - \\beta_y) & 0 \\\\ \n",
    "\\dot{\\beta}_x & \\dot{\\beta}_y & 0\n",
    "\\end{vmatrix} = [(n_x - \\beta_x)\\dot{\\beta}_y-(n_y - \\beta_y)\\dot{\\beta}_x]\\pmb{\\hat{z}}.\n",
    "$$\n",
    "To expand the second cross product, the scalar coefficient is brought before the cross product, leaving the cross product between the unit separation vector and the $z$ unit vector,\n",
    "$$\n",
    "\\pmb{n}\\times[(\\pmb{n}-\\pmb{\\beta})\\times\\dot{\\pmb{\\beta}}]= [(n_x - \\beta_x)\\dot{\\beta}_y-(n_y - \\beta_y)\\dot{\\beta}_x](\\pmb{n}\\times\\pmb{\\hat{z}}).\n",
    "$$\n",
    "The resulting cross product is expanded,\n",
    "$$\n",
    "\\pmb{n}\\times\\pmb{\\hat{z}}=\\begin{vmatrix}\n",
    "\\pmb{\\hat{x}} & \\pmb{\\hat{y}} & \\pmb{\\hat{z}} \\\\ \n",
    "n_x & n_y & 0 \\\\ \n",
    "0 & 0 & 1\n",
    "\\end{vmatrix} = n_y\\pmb{\\hat{x}} + n_x\\pmb{\\hat{y}},\n",
    "$$\n",
    "and is multiplied by the scalar coefficient and the charge of the particle, giving\n",
    "$$\n",
    "\\pmb{\\text{numerator}} = q[(n_x - \\beta_x)\\dot{\\beta}_y-(n_y - \\beta_y)\\dot{\\beta}_x](n_y\\pmb{\\hat{x}} + n_x\\pmb{\\hat{y}}).\n",
    "$$\n",
    "In the denominator, only the dot product must be expanded, giving\n",
    "$$\n",
    "\\text{denominator} = c(1 - n_x\\beta_x - n_y\\beta_y)^3R.\n",
    "$$\n",
    "The components $u(x,y,t)$ and $v(x,y,t)$ are then given by\n",
    "$$\n",
    "u(x,y,t) = k\\left(\\frac{q[(n_x - \\beta_x)\\dot{\\beta}_y-(n_y - \\beta_y)\\dot{\\beta}_x]n_y}{c(1 - n_x\\beta_x - n_y\\beta_y)^3R}\\right)_\\text{retarded}\n",
    "$$\n",
    "and\n",
    "$$\n",
    "v(x,y,t) = k\\left(\\frac{q[(n_x - \\beta_x)\\dot{\\beta}_y-(n_y - \\beta_y)\\dot{\\beta}_x]n_x}{c(1 - n_x\\beta_x - n_y\\beta_y)^3R}\\right)_\\text{retarded}\n",
    "$$\n",
    "respectively."
   ]
  },
  {
   "cell_type": "markdown",
   "id": "93c2fbc2-e935-498f-ab05-fab506bcf062",
   "metadata": {},
   "source": [
    "## Vector field"
   ]
  },
  {
   "cell_type": "code",
   "execution_count": 1,
   "id": "d179c5b4-058a-40eb-a321-25b56a59e59a",
   "metadata": {
    "jupyter": {
     "source_hidden": true
    },
    "tags": []
   },
   "outputs": [
    {
     "data": {
      "application/vnd.jupyter.widget-view+json": {
       "model_id": "16076d08295f48c19c5db4f67660872f",
       "version_major": 2,
       "version_minor": 0
      },
      "text/plain": [
       "interactive(children=(FloatSlider(value=50.0, description='t', step=0.01), Output()), _dom_classes=('widget-in…"
      ]
     },
     "metadata": {},
     "output_type": "display_data"
    },
    {
     "data": {
      "text/plain": [
       "<function __main__.field(t)>"
      ]
     },
     "execution_count": 1,
     "metadata": {},
     "output_type": "execute_result"
    }
   ],
   "source": [
    "import numpy as np\n",
    "from ipywidgets import interact\n",
    "from vectorfields import CustomUV2D\n",
    "\n",
    "c = 299792458\n",
    "k = 1/(4 * np.pi * 8.85418782e-12)\n",
    "q = 2 * 1.60217662e-19\n",
    "r = 0.5\n",
    "v = 20e6\n",
    "frq = v/r\n",
    "\n",
    "beta = v/c\n",
    "accl = v**2/(r * c)\n",
    "\n",
    "def R(x,y,pos):\n",
    "    return np.sqrt(\n",
    "        (x - r*np.cos(pos))**2 + (y - r*np.sin(pos))**2\n",
    "    )\n",
    "\n",
    "def u(x,y,t):\n",
    "    _pos = frq * t\n",
    "    \n",
    "    pos = frq * (t - R(x,y,_pos)/c)\n",
    "    \n",
    "    RR = R(x,y,pos)\n",
    "    \n",
    "    nx = (x - r*np.cos(pos))/RR\n",
    "    ny = (y - r*np.sin(pos))/RR\n",
    "    \n",
    "    vx = -beta * np.sin(pos)\n",
    "    vy =  beta * np.cos(pos)\n",
    "    \n",
    "    ax = -accl * np.cos(pos)\n",
    "    ay = -accl * np.sin(pos)\n",
    "    \n",
    "    num = k * q * ( (nx - vx)*ay - (ny - vy)*ax ) * ny\n",
    "    den = c * ( 1 - nx*vx - ny*vy )**3 * RR\n",
    "    \n",
    "    return num/den\n",
    "\n",
    "def v(x,y,t):\n",
    "    _pos = frq * t\n",
    "    \n",
    "    pos = frq * (t - R(x,y,_pos)/c)\n",
    "    \n",
    "    RR = R(x,y,pos)\n",
    "    \n",
    "    nx = (x - r*np.cos(pos))/RR\n",
    "    ny = (y - r*np.sin(pos))/RR\n",
    "    \n",
    "    vx = -beta * np.sin(pos)\n",
    "    vy =  beta * np.cos(pos)\n",
    "    \n",
    "    ax = -accl * np.cos(pos)\n",
    "    ay = -accl * np.sin(pos)\n",
    "    \n",
    "    num = k * q * ( (nx - vx)*ay - (ny - vy)*ax ) * nx\n",
    "    den = c * ( 1 - nx*vx - ny*vy )**3 * RR\n",
    "    \n",
    "    return num/den\n",
    "    \n",
    "    \n",
    "def field(t):\n",
    "    t = t / 10000000\n",
    "    ufunc = lambda x,y: u(x,y,t)*np.sqrt(x**2+y**2)\n",
    "    vfunc = lambda x,y: v(x,y,t)*np.sqrt(x**2+y**2)\n",
    "    \n",
    "    vf = CustomUV2D(ufunc, vfunc, size=100, resolution=100)\n",
    "    return vf.plot()\n",
    "\n",
    "interact(field, t=(0, 100, 0.01))"
   ]
  },
  {
   "cell_type": "markdown",
   "id": "74cb290d-f237-4ae5-bc8f-b8187bcf695d",
   "metadata": {
    "tags": []
   },
   "source": [
    "## Magnitude of the vector field (scalar field)"
   ]
  },
  {
   "cell_type": "code",
   "execution_count": 2,
   "id": "ad7b7ea7-1786-4fc5-a66c-110181b4c53e",
   "metadata": {
    "jupyter": {
     "source_hidden": true
    },
    "tags": []
   },
   "outputs": [
    {
     "data": {
      "application/vnd.jupyter.widget-view+json": {
       "model_id": "7d897ea97f74438b80f36cb085bf53ca",
       "version_major": 2,
       "version_minor": 0
      },
      "text/plain": [
       "interactive(children=(FloatSlider(value=50.0, description='t', step=0.01), Output()), _dom_classes=('widget-in…"
      ]
     },
     "metadata": {},
     "output_type": "display_data"
    },
    {
     "data": {
      "text/plain": [
       "<function __main__.field(t)>"
      ]
     },
     "execution_count": 2,
     "metadata": {},
     "output_type": "execute_result"
    }
   ],
   "source": [
    "import numpy as np\n",
    "from ipywidgets import interact\n",
    "import matplotlib.pyplot as plt\n",
    "\n",
    "c = 299792458\n",
    "k = 1/(4 * np.pi * 8.85418782e-12)\n",
    "q = 2 * 1.60217662e-19\n",
    "r = 0.5\n",
    "v = 20e6\n",
    "frq = v/r\n",
    "\n",
    "beta = v/c\n",
    "accl = v**2/(r * c)\n",
    "\n",
    "def R(x,y,pos):\n",
    "    return np.sqrt(\n",
    "        (x - r*np.cos(pos))**2 + (y - r*np.sin(pos))**2\n",
    "    )\n",
    "\n",
    "def u(x,y,t):\n",
    "    _pos = frq * t\n",
    "    \n",
    "    pos = frq * (t - R(x,y,_pos)/c)\n",
    "    \n",
    "    RR = R(x,y,pos)\n",
    "    \n",
    "    nx = (x - r*np.cos(pos))/RR\n",
    "    ny = (y - r*np.sin(pos))/RR\n",
    "    \n",
    "    vx = -beta * np.sin(pos)\n",
    "    vy =  beta * np.cos(pos)\n",
    "    \n",
    "    ax = -accl * np.cos(pos)\n",
    "    ay = -accl * np.sin(pos)\n",
    "    \n",
    "    num = k * q * ( (nx - vx)*ay - (ny - vy)*ax ) * ny\n",
    "    den = c * ( 1 - nx*vx - ny*vy )**3 * RR\n",
    "    \n",
    "    return num/den\n",
    "\n",
    "def v(x,y,t):\n",
    "    _pos = frq * t\n",
    "    \n",
    "    pos = frq * (t - R(x,y,_pos)/c)\n",
    "    \n",
    "    RR = R(x,y,pos)\n",
    "    \n",
    "    nx = (x - r*np.cos(pos))/RR\n",
    "    ny = (y - r*np.sin(pos))/RR\n",
    "    \n",
    "    vx = -beta * np.sin(pos)\n",
    "    vy =  beta * np.cos(pos)\n",
    "    \n",
    "    ax = -accl * np.cos(pos)\n",
    "    ay = -accl * np.sin(pos)\n",
    "    \n",
    "    num = k * q * ( (nx - vx)*ay - (ny - vy)*ax ) * nx\n",
    "    den = c * ( 1 - nx*vx - ny*vy )**3 * RR\n",
    "    \n",
    "    return num/den\n",
    "    \n",
    "    \n",
    "def field(t):\n",
    "    t = t / 10000000\n",
    "\n",
    "    n = 100\n",
    "    img = np.zeros((n, n))\n",
    "    zoom = 1\n",
    "\n",
    "    for y in range(n):\n",
    "        for x in range(n):\n",
    "            X, Y = ((x-(n/2))/zoom, (y-(n/2))/zoom)\n",
    "            if X**2 + Y**2 > (r*2)**2 or X**2 + Y**2 < (r-0.5)**2:\n",
    "                img[y,x] = np.sqrt(u(X,-Y,t)**2 + v(X,-Y,t)**2)\n",
    "\n",
    "    plt.imshow(img)\n",
    "    pos = frq * t\n",
    "    plt.scatter(\n",
    "        r*np.cos(pos)*zoom+(n/2),\n",
    "        -r*np.sin(pos)*zoom+(n/2)\n",
    "    )\n",
    "    plt.imshow(img)\n",
    "    return plt.show()\n",
    "\n",
    "interact(field, t=(0, 100, 0.01))"
   ]
  }
 ],
 "metadata": {
  "kernelspec": {
   "display_name": "Python 3 (ipykernel)",
   "language": "python",
   "name": "python3"
  },
  "language_info": {
   "codemirror_mode": {
    "name": "ipython",
    "version": 3
   },
   "file_extension": ".py",
   "mimetype": "text/x-python",
   "name": "python",
   "nbconvert_exporter": "python",
   "pygments_lexer": "ipython3",
   "version": "3.9.7"
  },
  "nteract": {
   "version": "0.28.0"
  }
 },
 "nbformat": 4,
 "nbformat_minor": 5
}
